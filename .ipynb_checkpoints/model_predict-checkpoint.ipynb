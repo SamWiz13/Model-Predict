{
 "cells": [
  {
   "cell_type": "code",
   "execution_count": 33,
   "id": "d73ecd51",
   "metadata": {},
   "outputs": [],
   "source": [
    "from torch import nn,optim,cuda,from_numpy,save\n",
    "from torch.utils import data\n",
    "from torchvision import datasets,transforms\n",
    "import matplotlib.pyplot as plt\n",
    "import numpy as np\n",
    "import cv2\n"
   ]
  },
  {
   "cell_type": "code",
   "execution_count": 34,
   "id": "f1310125",
   "metadata": {},
   "outputs": [
    {
     "name": "stdout",
     "output_type": "stream",
     "text": [
      "cuda\n"
     ]
    }
   ],
   "source": [
    "device ='cuda' if cuda.is_available() else 'cpu'\n",
    "print(device)"
   ]
  },
  {
   "cell_type": "code",
   "execution_count": 35,
   "id": "f23ba738",
   "metadata": {},
   "outputs": [],
   "source": [
    "class Model_Sh(nn.Module):\n",
    "    def __init__(self):\n",
    "        super().__init__()\n",
    "        self.l1 = nn.Linear(784,520)\n",
    "        self.l2 = nn.Linear(520,450)\n",
    "        self.l3 = nn.Linear(450,320)\n",
    "        self.l4 = nn.Linear(320,240)\n",
    "        self.l5 = nn.Linear(240,120)\n",
    "        self.l6 = nn.Linear(120,10)\n",
    "        self.relu = nn.ReLU()\n",
    "        \n",
    "    def forward(self,x):\n",
    "        x = x.view(-1,784)\n",
    "        x = self.relu(self.l1(x))\n",
    "        x = self.relu(self.l2(x))\n",
    "        x = self.relu(self.l3(x))\n",
    "        x = self.relu(self.l4(x))\n",
    "        x = self.relu(self.l5(x))\n",
    "        return self.l6(x)"
   ]
  },
  {
   "cell_type": "code",
   "execution_count": 24,
   "id": "61ee9d29",
   "metadata": {},
   "outputs": [],
   "source": [
    "class Model_Y(nn.Module):\n",
    "    def __init__(self):\n",
    "        super().__init__()\n",
    "        self.l1 = nn.Linear(784,520)\n",
    "        self.l2 = nn.Linear(520,320)\n",
    "        self.l3 = nn.Linear(320,250)\n",
    "        self.l4 = nn.Linear(250,120)\n",
    "        self.l5 = nn.Linear(120,60)\n",
    "        self.l6 = nn.Linear(60,10)\n",
    "        self.relu = nn.ReLU()\n",
    "        \n",
    "    def forward(self,x):\n",
    "        x = x.view(-1,784)\n",
    "        x = self.relu(self.l1(x))\n",
    "        x = self.relu(self.l2(x))\n",
    "        x = self.relu(self.l3(x))\n",
    "        x = self.relu(self.l4(x))\n",
    "        x = self.relu(self.l5(x))\n",
    "        return self.l6(x)"
   ]
  },
  {
   "cell_type": "code",
   "execution_count": 43,
   "id": "123263e7",
   "metadata": {},
   "outputs": [],
   "source": [
    "class Model(nn.Module):\n",
    "    def __init__(self):\n",
    "        super().__init__()\n",
    "        self.l1 = nn.Linear(784,520)\n",
    "        self.l2 = nn.Linear(520,320)\n",
    "        self.l3 = nn.Linear(320,240)\n",
    "        self.l4 = nn.Linear(240,120)\n",
    "        self.l5 = nn.Linear(120,10)\n",
    "        self.relu = nn.ReLU()\n",
    "        \n",
    "    def forward(self,x):\n",
    "        x = x.view(-1,784)\n",
    "        x = self.relu(self.l1(x))\n",
    "        x = self.relu(self.l2(x))\n",
    "        x = self.relu(self.l3(x))\n",
    "        x = self.relu(self.l4(x))\n",
    "        return self.l5(x)"
   ]
  },
  {
   "cell_type": "code",
   "execution_count": 44,
   "id": "62053bc5",
   "metadata": {},
   "outputs": [],
   "source": [
    "test_dataset = datasets.FashionMNIST(root = 'FashionMNIST/',\n",
    "                               train = False,\n",
    "                               transform=transforms.ToTensor(),\n",
    "                                download =True)\n",
    "\n",
    "test_data = data.DataLoader(test_dataset,batch_size=64,shuffle=True)"
   ]
  },
  {
   "cell_type": "code",
   "execution_count": 45,
   "id": "b9b6bfc3",
   "metadata": {},
   "outputs": [
    {
     "ename": "RuntimeError",
     "evalue": "Error(s) in loading state_dict for Model:\n\tsize mismatch for l3.weight: copying a param with shape torch.Size([250, 320]) from checkpoint, the shape in current model is torch.Size([240, 320]).\n\tsize mismatch for l3.bias: copying a param with shape torch.Size([250]) from checkpoint, the shape in current model is torch.Size([240]).\n\tsize mismatch for l4.weight: copying a param with shape torch.Size([120, 250]) from checkpoint, the shape in current model is torch.Size([120, 240]).",
     "output_type": "error",
     "traceback": [
      "\u001b[1;31m---------------------------------------------------------------------------\u001b[0m",
      "\u001b[1;31mRuntimeError\u001b[0m                              Traceback (most recent call last)",
      "\u001b[1;32m~\\AppData\\Local\\Temp/ipykernel_4368/1006880588.py\u001b[0m in \u001b[0;36m<module>\u001b[1;34m\u001b[0m\n\u001b[0;32m     12\u001b[0m \u001b[0mShaxboz\u001b[0m\u001b[1;33m.\u001b[0m\u001b[0mload_state_dict\u001b[0m\u001b[1;33m(\u001b[0m\u001b[0mtorch\u001b[0m\u001b[1;33m.\u001b[0m\u001b[0mload\u001b[0m\u001b[1;33m(\u001b[0m\u001b[1;34m'Shaxboz.h5'\u001b[0m\u001b[1;33m)\u001b[0m\u001b[1;33m)\u001b[0m\u001b[1;33m\u001b[0m\u001b[1;33m\u001b[0m\u001b[0m\n\u001b[0;32m     13\u001b[0m \u001b[0mYahyoxon\u001b[0m\u001b[1;33m.\u001b[0m\u001b[0mload_state_dict\u001b[0m\u001b[1;33m(\u001b[0m\u001b[0mtorch\u001b[0m\u001b[1;33m.\u001b[0m\u001b[0mload\u001b[0m\u001b[1;33m(\u001b[0m\u001b[1;34m'Yahyoxon.h5'\u001b[0m\u001b[1;33m)\u001b[0m\u001b[1;33m)\u001b[0m\u001b[1;33m\u001b[0m\u001b[1;33m\u001b[0m\u001b[0m\n\u001b[1;32m---> 14\u001b[1;33m \u001b[0mKamoliddin\u001b[0m\u001b[1;33m.\u001b[0m\u001b[0mload_state_dict\u001b[0m\u001b[1;33m(\u001b[0m\u001b[0mtorch\u001b[0m\u001b[1;33m.\u001b[0m\u001b[0mload\u001b[0m\u001b[1;33m(\u001b[0m\u001b[1;34m'kamoliddin.h5'\u001b[0m\u001b[1;33m)\u001b[0m\u001b[1;33m)\u001b[0m\u001b[1;33m\u001b[0m\u001b[1;33m\u001b[0m\u001b[0m\n\u001b[0m\u001b[0;32m     15\u001b[0m \u001b[0mJavohir\u001b[0m\u001b[1;33m.\u001b[0m\u001b[0mload_state_dict\u001b[0m\u001b[1;33m(\u001b[0m\u001b[0mtorch\u001b[0m\u001b[1;33m.\u001b[0m\u001b[0mload\u001b[0m\u001b[1;33m(\u001b[0m\u001b[1;34m'javohir.h5'\u001b[0m\u001b[1;33m)\u001b[0m\u001b[1;33m)\u001b[0m\u001b[1;33m\u001b[0m\u001b[1;33m\u001b[0m\u001b[0m\n",
      "\u001b[1;32m~\\AppData\\Local\\Programs\\Python\\Python39\\lib\\site-packages\\torch\\nn\\modules\\module.py\u001b[0m in \u001b[0;36mload_state_dict\u001b[1;34m(self, state_dict, strict)\u001b[0m\n\u001b[0;32m   1480\u001b[0m \u001b[1;33m\u001b[0m\u001b[0m\n\u001b[0;32m   1481\u001b[0m         \u001b[1;32mif\u001b[0m \u001b[0mlen\u001b[0m\u001b[1;33m(\u001b[0m\u001b[0merror_msgs\u001b[0m\u001b[1;33m)\u001b[0m \u001b[1;33m>\u001b[0m \u001b[1;36m0\u001b[0m\u001b[1;33m:\u001b[0m\u001b[1;33m\u001b[0m\u001b[1;33m\u001b[0m\u001b[0m\n\u001b[1;32m-> 1482\u001b[1;33m             raise RuntimeError('Error(s) in loading state_dict for {}:\\n\\t{}'.format(\n\u001b[0m\u001b[0;32m   1483\u001b[0m                                self.__class__.__name__, \"\\n\\t\".join(error_msgs)))\n\u001b[0;32m   1484\u001b[0m         \u001b[1;32mreturn\u001b[0m \u001b[0m_IncompatibleKeys\u001b[0m\u001b[1;33m(\u001b[0m\u001b[0mmissing_keys\u001b[0m\u001b[1;33m,\u001b[0m \u001b[0munexpected_keys\u001b[0m\u001b[1;33m)\u001b[0m\u001b[1;33m\u001b[0m\u001b[1;33m\u001b[0m\u001b[0m\n",
      "\u001b[1;31mRuntimeError\u001b[0m: Error(s) in loading state_dict for Model:\n\tsize mismatch for l3.weight: copying a param with shape torch.Size([250, 320]) from checkpoint, the shape in current model is torch.Size([240, 320]).\n\tsize mismatch for l3.bias: copying a param with shape torch.Size([250]) from checkpoint, the shape in current model is torch.Size([240]).\n\tsize mismatch for l4.weight: copying a param with shape torch.Size([120, 250]) from checkpoint, the shape in current model is torch.Size([120, 240])."
     ]
    }
   ],
   "source": [
    "import torch\n",
    "Shaxboz = Model_Sh()\n",
    "Yahyoxon = Model_Y()\n",
    "Kamoliddin = Model()\n",
    "Javohir = Model()\n",
    "\n",
    "Shaxboz.to(device)\n",
    "Yahyoxon.to(device) \n",
    "Kamoliddin.to(device)\n",
    "Javohir.to(device)\n",
    "\n",
    "Shaxboz.load_state_dict(torch.load('Shaxboz.h5'))\n",
    "Yahyoxon.load_state_dict(torch.load('Yahyoxon.h5'))\n",
    "Kamoliddin.load_state_dict(torch.load('kamoliddin.h5'))\n",
    "Javohir.load_state_dict(torch.load('javohir.h5'))"
   ]
  },
  {
   "cell_type": "code",
   "execution_count": 46,
   "id": "d17be775",
   "metadata": {},
   "outputs": [],
   "source": [
    "criterion = nn.CrossEntropyLoss()"
   ]
  },
  {
   "cell_type": "code",
   "execution_count": 47,
   "id": "27691da2",
   "metadata": {},
   "outputs": [
    {
     "name": "stdout",
     "output_type": "stream",
     "text": [
      "Shaxboz :   88.5199966430664%\n",
      "Yahyoxon :  5.009999752044678%\n",
      "Kamoliddin : 10.0%\n",
      "Javohir :   10.0%\n"
     ]
    }
   ],
   "source": [
    "def test():\n",
    "    Shaxboz.eval()\n",
    "    Yahyoxon.eval()\n",
    "    Kamoliddin.eval()\n",
    "    Javohir.eval()\n",
    "    \n",
    "    Xato_Sh = 0; Togri_Sh=0\n",
    "    Xato_Y = 0; Togri_Y=0\n",
    "    Xato_S = 0; Togri_S=0\n",
    "    Xato_J = 0; Togri_J=0\n",
    "    \n",
    "    for rasm,label in test_data:\n",
    "        rasm,label = rasm.to(device),label.to(device)\n",
    "        \n",
    "        bashorat_Sh = Shaxboz(rasm)\n",
    "        Xato_Sh += criterion(bashorat_Sh,label).item()\n",
    "        natija_Sh = bashorat_Sh.data.max(1,keepdim=True)[1]\n",
    "        Togri_Sh += natija_Sh.eq(label.data.view_as(natija_Sh)).cuda().sum()\n",
    "        \n",
    "        bashorat_Y = Yahyoxon(rasm)\n",
    "        Xato_Y += criterion(bashorat_Y,label).item()\n",
    "        natija_Y = bashorat_Y.data.max(1,keepdim=True)[1]\n",
    "        Togri_Y += natija_Y.eq(label.data.view_as(natija_Y)).cuda().sum()\n",
    "        \n",
    "        bashorat_S = Sadriddin(rasm)\n",
    "        Xato_S += criterion(bashorat_S,label).item()\n",
    "        natija_S = bashorat_S.data.max(1,keepdim=True)[1]\n",
    "        Togri_S += natija_S.eq(label.data.view_as(natija_S)).cuda().sum()\n",
    "        \n",
    "        bashorat_J = Javohir(rasm)\n",
    "        Xato_J += criterion(bashorat_J,label).item()\n",
    "        natija_J = bashorat_J.data.max(1,keepdim=True)[1]\n",
    "        Togri_J += natija_J.eq(label.data.view_as(natija_J)).cuda().sum()\n",
    "        \n",
    "    Xato_Sh/=(len(test_data.dataset))\n",
    "    Xato_Y/=(len(test_data.dataset))\n",
    "    Xato_S/=(len(test_data.dataset))\n",
    "    Xato_J/=(len(test_data.dataset))\n",
    "    \n",
    "    print(f\"Shaxboz :   {100.0*Togri_Sh/len(test_data.dataset)}%\")\n",
    "    print(f\"Yahyoxon :  {100.0*Togri_Y/len(test_data.dataset)}%\")\n",
    "    print(f\"Kamoliddin : {100.0*Togri_S/len(test_data.dataset)}%\")\n",
    "    print(f\"Javohir :   {100.0*Togri_J/len(test_data.dataset)}%\")\n",
    "    \n",
    "\n",
    "test()"
   ]
  },
  {
   "cell_type": "code",
   "execution_count": null,
   "id": "182485ee",
   "metadata": {},
   "outputs": [],
   "source": []
  }
 ],
 "metadata": {
  "kernelspec": {
   "display_name": "Python 3 (ipykernel)",
   "language": "python",
   "name": "python3"
  },
  "language_info": {
   "codemirror_mode": {
    "name": "ipython",
    "version": 3
   },
   "file_extension": ".py",
   "mimetype": "text/x-python",
   "name": "python",
   "nbconvert_exporter": "python",
   "pygments_lexer": "ipython3",
   "version": "3.9.7"
  }
 },
 "nbformat": 4,
 "nbformat_minor": 5
}
